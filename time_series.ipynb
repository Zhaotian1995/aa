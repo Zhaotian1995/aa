{
  "nbformat": 4,
  "nbformat_minor": 0,
  "metadata": {
    "colab": {
      "name": "time series",
      "provenance": [],
      "authorship_tag": "ABX9TyNMHWuKkeb5ZxBed+HUYhSX",
      "include_colab_link": true
    },
    "kernelspec": {
      "name": "python3",
      "display_name": "Python 3"
    }
  },
  "cells": [
    {
      "cell_type": "markdown",
      "metadata": {
        "id": "view-in-github",
        "colab_type": "text"
      },
      "source": [
        "<a href=\"https://colab.research.google.com/github/Zhaotian1995/aa/blob/master/time_series.ipynb\" target=\"_parent\"><img src=\"https://colab.research.google.com/assets/colab-badge.svg\" alt=\"Open In Colab\"/></a>"
      ]
    },
    {
      "cell_type": "code",
      "metadata": {
        "id": "2Z0x4oQxHgq6",
        "colab_type": "code",
        "colab": {}
      },
      "source": [
        " from scipy.fftpack import fft, ifft\n"
      ],
      "execution_count": 0,
      "outputs": []
    },
    {
      "cell_type": "code",
      "metadata": {
        "id": "Bi0NHX9-HhbK",
        "colab_type": "code",
        "colab": {}
      },
      "source": [
        "data = train.iloc[:,0:-4]\n",
        "fft_complex = fft(data)\n",
        "fft_mag = [np.sqrt(np.real(x)*np.real(x)+np.imag(x)*np.imag(x)) for x in fft_complex]\n"
      ],
      "execution_count": 0,
      "outputs": []
    },
    {
      "cell_type": "markdown",
      "metadata": {
        "id": "9r8N_HODH_Qk",
        "colab_type": "text"
      },
      "source": [
        "getting the general behavior of fourier transformation by running the average\n"
      ]
    },
    {
      "cell_type": "code",
      "metadata": {
        "id": "hmpoxMCQH3c8",
        "colab_type": "code",
        "colab": {}
      },
      "source": [
        "arr = np.array(fft_mag)\n",
        "fft_mean = np.mean(arr,axis=0)"
      ],
      "execution_count": 0,
      "outputs": []
    },
    {
      "cell_type": "markdown",
      "metadata": {
        "id": "fXhDnE5yIYSd",
        "colab_type": "text"
      },
      "source": [
        "In this case, the series are stacked in rows, so taking the mean column-wise (axis zero) will result in frequency-wise means. To better plot the transformation, we need to create a list of frequencies tested. The frequencies are in the form: day/all days in the dataset for each day, so 1/550, 2/550, 3/550, and so on. To create the list we need to run:\n"
      ]
    },
    {
      "cell_type": "code",
      "metadata": {
        "id": "PciZFYsdIn09",
        "colab_type": "code",
        "colab": {}
      },
      "source": [
        "fft_xvals = [day / fft_mean.shape[0] for day in range(fft_mean.shape[0])]\n"
      ],
      "execution_count": 0,
      "outputs": []
    },
    {
      "cell_type": "markdown",
      "metadata": {
        "id": "Lq5rGtnpIqbx",
        "colab_type": "text"
      },
      "source": [
        "be ware to incorporate the golbal，a time-dependent feature as well as the autocorrelation for one-year time intervals as a global feature. "
      ]
    },
    {
      "cell_type": "code",
      "metadata": {
        "id": "tSdKDWMvRJll",
        "colab_type": "code",
        "colab": {}
      },
      "source": [
        ""
      ],
      "execution_count": 0,
      "outputs": []
    }
  ]
}